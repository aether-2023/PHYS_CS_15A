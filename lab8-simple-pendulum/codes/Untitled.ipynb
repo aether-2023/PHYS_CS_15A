{
 "cells": [
  {
   "cell_type": "code",
   "execution_count": 52,
   "metadata": {},
   "outputs": [],
   "source": [
    "import u3\n",
    "import time\n",
    "import numpy as np\n",
    "import matplotlib.pyplot as plt\n",
    "import pickle\n",
    "\n",
    "class robot:\n",
    "    def __init__(self):\n",
    "        self.labjack = u3.U3()\n",
    "        \n",
    "        self.bxycal = 1. /230 #these are used to convert \n",
    "        self.bzcal = 1./ 205  #for some reason LSM303 has different gain in z\n",
    "        \n",
    "    def close(self):\n",
    "        self.labjack.close()\n",
    "\n",
    "       \n",
    "    def takeBfieldPoint(self):\n",
    "        #SCL should be FI07\n",
    "        #SDA should be FI06\n",
    "        #pullup resistors needed\n",
    "        mylj = self.labjack\n",
    "        mylj.debug = False\n",
    "        mylj.configIO(FIOAnalog=0,EIOAnalog=0)\n",
    "        #mylj.setFIOState(4,0)\n",
    "        #t = mylj.configIO(EnableCounter0 = True,TimerCounterPinOffset = 4)\n",
    "\n",
    "        LSM303_ADDRESS_MAG   = (0x3C >> 1)  # 0011110x\n",
    "        LSM303_REGISTER_CRB_REG_M         = 0x01   #to set gain. should be set to 11100000 = 0xE0\n",
    "        LSM303_REGISTER_MAG_MR_REG_M      = 0x02\n",
    "        LSM303_REGISTER_MAG_OUT_X_H_M     = 0x03\n",
    "        response = mylj.i2c(LSM303_ADDRESS_MAG,[LSM303_REGISTER_MAG_MR_REG_M,0x00])\n",
    "        response = mylj.i2c(LSM303_ADDRESS_MAG,[LSM303_REGISTER_CRB_REG_M,0xE0])\n",
    "        \n",
    "        \n",
    "        response = mylj.i2c(LSM303_ADDRESS_MAG,[LSM303_REGISTER_MAG_OUT_X_H_M], NumI2CBytesToReceive = 6)\n",
    "        # print(response['I2CBytes'])\n",
    "        reply = response['I2CBytes'];\n",
    "\n",
    "        Bx = mag16(reply[0],reply[1])*self.bxycal\n",
    "        By = mag16(reply[2],reply[3])*self.bxycal\n",
    "        Bz = mag16(reply[4],reply[5])*self.bzcal\n",
    "        \n",
    "        #print(reply)         \n",
    "        #print(Bx)\n",
    "        return (Bx,By,Bz)\n",
    "    \n",
    "    def printAnalogIns(self):\n",
    "        AIN0value = self.labjack.getAIN(0)\n",
    "        AIN1value = self.labjack.getAIN(1)\n",
    "        AIN2value = self.labjack.getAIN(2)\n",
    "        AIN3value = self.labjack.getAIN(3)\n",
    "        descriptor ='A0 = %5.3f volts, A1 = %5.3f volts, A2 = %5.3f volts, A3 = %5.3f volts ' % (AIN0value, AIN1value, AIN2value, AIN3value)\n",
    "        print(descriptor)\n",
    "  \n",
    "  \n",
    "         \n",
    "    \n",
    "def mag16(hibyte,lobyte):\n",
    "    #a utility to convert LM303 bytes into usable numbers\n",
    "    \n",
    "    n = (hibyte << 8) | lobyte\n",
    "    if n > 32767: \n",
    "        n -= 65536\n",
    "    return n    \n",
    "\n",
    "def plotBFields():\n",
    "    myRobot = robot()\n",
    "    allBx = []\n",
    "    allBy = []\n",
    "    allBz = []\n",
    "    allTimes = []\n",
    "    plt.ion()\n",
    "    startTime = time.time()\n",
    "    for i in range(100):\n",
    "        (Bx,By,Bz) = myRobot.takeBfieldPoint()\n",
    "        allTimes.append(time.time() - startTime) #record the current time\n",
    "        \n",
    "        \n",
    "        allBx.append(Bx)\n",
    "        allBy.append(By)\n",
    "        allBz.append(Bz)\n",
    "        time.sleep(0.1)\n",
    "        \n",
    "    tName = input('input the trial name (M-L-A-n): ')\n",
    "    aData=open(tName,'wb')\n",
    "    pickle.dump([allTimes, allBx, allBy, allBz],aData)\n",
    "    aData.close()\n",
    "        \n",
    "    plt.figure()\n",
    "    plt.plot(allTimes,allBx,label = 'Bx')\n",
    "    plt.plot(allTimes,allBy,label = 'By')\n",
    "    plt.plot(allTimes,allBz,label = 'Bz')\n",
    "    plt.xlabel('time, seconds')\n",
    "    plt.ylabel('field, Gauss')\n",
    "    plt.draw()\n",
    "    plt.gca().legend()\n",
    "        \n",
    "    myRobot.close()\n",
    "        \n",
    "\n",
    "   "
   ]
  },
  {
   "cell_type": "code",
   "execution_count": 111,
   "metadata": {},
   "outputs": [
    {
     "name": "stdin",
     "output_type": "stream",
     "text": [
      "input the trial name (M-L-A-n):  80-50-6-5\n"
     ]
    },
    {
     "data": {
      "image/png": "[encoded data removed]",
      "text/plain": [
       "<Figure size 432x288 with 1 Axes>"
      ]
     },
     "metadata": {
      "needs_background": "light"
     },
     "output_type": "display_data"
    }
   ],
   "source": [
    "#r01=robot()    \n",
    "#r01.printAnalogIns()\n",
    "plotBFields()"
   ]
  },
  {
   "cell_type": "code",
   "execution_count": 63,
   "metadata": {},
   "outputs": [],
   "source": [
    "#aData=open(dataFiles[trials],'rb')\n",
    "#xData, yData = pickle.load(aData)\n",
    "#aData.close()"
   ]
  },
  {
   "cell_type": "code",
   "execution_count": 6,
   "metadata": {},
   "outputs": [
    {
     "data": {
      "text/plain": [
       "3"
      ]
     },
     "execution_count": 6,
     "metadata": {},
     "output_type": "execute_result"
    }
   ],
   "source": [
    "0x03"
   ]
  },
  {
   "cell_type": "code",
   "execution_count": null,
   "metadata": {},
   "outputs": [],
   "source": []
  }
 ],
 "metadata": {
  "kernelspec": {
   "display_name": "Python 3",
   "language": "python",
   "name": "python3"
  },
  "language_info": {
   "codemirror_mode": {
    "name": "ipython",
    "version": 3
   },
   "file_extension": ".py",
   "mimetype": "text/x-python",
   "name": "python",
   "nbconvert_exporter": "python",
   "pygments_lexer": "ipython3",
   "version": "3.8.3"
  }
 },
 "nbformat": 4,
 "nbformat_minor": 4
}
