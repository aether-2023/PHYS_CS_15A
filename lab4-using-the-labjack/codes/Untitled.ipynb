{
 "cells": [
  {
   "cell_type": "code",
   "execution_count": 6,
   "metadata": {},
   "outputs": [],
   "source": [
    "import u3\n",
    "from time import sleep\n",
    "import matplotlib.pyplot as plt\n",
    "import numpy as np\n",
    "import pickle"
   ]
  },
  {
   "cell_type": "code",
   "execution_count": 7,
   "metadata": {},
   "outputs": [],
   "source": [
    "class robot:\n",
    "    \n",
    "    def __init__(self):\n",
    "        self.labjack = u3.U3()\n",
    "        self.__resistance = 500\n",
    "        \n",
    "    def close(self):\n",
    "        self.labjack.close()\n",
    "                            \n",
    "    def printAnalogIns(self):\n",
    "        AIN0value = self.labjack.getAIN(0)\n",
    "        AIN1value = self.labjack.getAIN(1)\n",
    "        descriptor ='A0 = %5.3f volts, A1 = %5.3f volts ' % (AIN0value, AIN1value)\n",
    "        print(descriptor)\n",
    "       \n",
    "    def setDAC0(self,voltage = 0):\n",
    "        if voltage < 0:\n",
    "            print('output voltage must be >= 0')\n",
    "            return\n",
    "        elif voltage > 5:\n",
    "            print('output voltage must be <= 5')\n",
    "            return\n",
    "        else:\n",
    "            DAC0_VALUE = self.labjack.voltageToDACBits(voltage, dacNumber = 0, is16Bits = False)\n",
    "            self.labjack.getFeedback(u3.DAC0_8(DAC0_VALUE))\n",
    "        \n",
    "    def blink(self, n = 3):\n",
    "        while n > 0:\n",
    "            n-=1\n",
    "            self.setDAC0(2)\n",
    "            sleep(1)\n",
    "            self.setDAC0(0)\n",
    "            sleep(1)\n",
    "    \n",
    "    def takeIVCurve(self, maxVoltage = 5, deltaVoltage = 0.1, verbose = 0):\n",
    "        setVoltages = np.arange(0,maxVoltage,deltaVoltage)\n",
    "        currents = np.zeros(len(setVoltages))\n",
    "        diodeVoltages = np.zeros(len(setVoltages))\n",
    "        for i in range(len(setVoltages)):\n",
    "            thisVoltage = setVoltages[i]\n",
    "            self.setDAC0(thisVoltage)\n",
    "            sleep(0.05)\n",
    "            topVoltage = self.labjack.getAIN(0)\n",
    "            midVoltage = self.labjack.getAIN(1)\n",
    "            diodeVoltages[i] = midVoltage;\n",
    "            currents[i] = (topVoltage - midVoltage)/self.__resistance\n",
    "        \n",
    "        plt.figure('Diode I-V curve')\n",
    "        plt.plot(diodeVoltages,currents)\n",
    "        plt.xlabel('diode voltage')\n",
    "        plt.ylabel('diode current')\n",
    "        plt.show()\n",
    "        if verbose:\n",
    "            \n",
    "            plt.figure('Input voltages')\n",
    "            plt.plot(setVoltages,diodeVoltages)\n",
    "            plt.xlabel('DAC setpoint')\n",
    "            plt.ylabel('measured output voltage')\n",
    "            plt.show()\n",
    "        \n",
    "    def getRGYData(self, maxVoltage = 5, deltaVoltage = 0.1):\n",
    "        trials = 3\n",
    "        dataFiles = ['y-','g-','r-']\n",
    "        while trials > 0:\n",
    "            trials -= 1\n",
    "            input('click \\\"Enter\\\" when ready')\n",
    "            setVoltages = np.arange(0,maxVoltage,deltaVoltage)\n",
    "            currents = np.zeros(len(setVoltages))\n",
    "            diodeVoltages = np.zeros(len(setVoltages))\n",
    "            for i in range(len(setVoltages)):\n",
    "                thisVoltage = setVoltages[i]\n",
    "                self.setDAC0(thisVoltage)\n",
    "                sleep(0.05)\n",
    "                topVoltage = self.labjack.getAIN(0)\n",
    "                midVoltage = self.labjack.getAIN(1)\n",
    "                diodeVoltages[i] = midVoltage;\n",
    "                currents[i] = (topVoltage - midVoltage)/self.__resistance\n",
    "            self.setDAC0(0)\n",
    "            aData=open(dataFiles[trials],'wb')\n",
    "            pickle.dump([diodeVoltages,currents],aData)\n",
    "            aData.close()\n",
    "        \n",
    "        plt.figure(\"I-V diagram for LED\")\n",
    "        while trials < 3:\n",
    "            aData=open(dataFiles[trials],'rb')\n",
    "            xData, yData = pickle.load(aData)\n",
    "            aData.close()\n",
    "            plt.plot(xData, yData, dataFiles[trials], label=dataFiles[trials])\n",
    "            trials += 1\n",
    "        plt.plot(1.78, 0, 'r.', label='red photon energy')\n",
    "        plt.plot(2.48, 0, 'g.', label='green photon energy')\n",
    "        plt.plot(2.16, 0, 'y.', label='yellow photon energy')\n",
    "        plt.xlabel(\"LED Voltage (V)\")\n",
    "        plt.ylabel(\"current (A)\")\n",
    "        plt.legend()\n",
    "        plt.show()\n",
    "        "
   ]
  },
  {
   "cell_type": "code",
   "execution_count": 11,
   "metadata": {},
   "outputs": [
    {
     "ename": "AttributeError",
     "evalue": "'NoneType' object has no attribute 'OpenLabJack'",
     "output_type": "error",
     "traceback": [
      "\u001b[1;31m---------------------------------------------------------------------------\u001b[0m",
      "\u001b[1;31mAttributeError\u001b[0m                            Traceback (most recent call last)",
      "\u001b[1;32m<ipython-input-11-a24ee5f4e6b8>\u001b[0m in \u001b[0;36m<module>\u001b[1;34m\u001b[0m\n\u001b[1;32m----> 1\u001b[1;33m \u001b[0mmyRobot\u001b[0m \u001b[1;33m=\u001b[0m \u001b[0mrobot\u001b[0m\u001b[1;33m(\u001b[0m\u001b[1;33m)\u001b[0m\u001b[1;33m\u001b[0m\u001b[1;33m\u001b[0m\u001b[0m\n\u001b[0m",
      "\u001b[1;32m<ipython-input-7-62afe9fcf301>\u001b[0m in \u001b[0;36m__init__\u001b[1;34m(self)\u001b[0m\n\u001b[0;32m      2\u001b[0m \u001b[1;33m\u001b[0m\u001b[0m\n\u001b[0;32m      3\u001b[0m     \u001b[1;32mdef\u001b[0m \u001b[0m__init__\u001b[0m\u001b[1;33m(\u001b[0m\u001b[0mself\u001b[0m\u001b[1;33m)\u001b[0m\u001b[1;33m:\u001b[0m\u001b[1;33m\u001b[0m\u001b[1;33m\u001b[0m\u001b[0m\n\u001b[1;32m----> 4\u001b[1;33m         \u001b[0mself\u001b[0m\u001b[1;33m.\u001b[0m\u001b[0mlabjack\u001b[0m \u001b[1;33m=\u001b[0m \u001b[0mu3\u001b[0m\u001b[1;33m.\u001b[0m\u001b[0mU3\u001b[0m\u001b[1;33m(\u001b[0m\u001b[1;33m)\u001b[0m\u001b[1;33m\u001b[0m\u001b[1;33m\u001b[0m\u001b[0m\n\u001b[0m\u001b[0;32m      5\u001b[0m         \u001b[0mself\u001b[0m\u001b[1;33m.\u001b[0m\u001b[0m__resistance\u001b[0m \u001b[1;33m=\u001b[0m \u001b[1;36m500\u001b[0m\u001b[1;33m\u001b[0m\u001b[1;33m\u001b[0m\u001b[0m\n\u001b[0;32m      6\u001b[0m \u001b[1;33m\u001b[0m\u001b[0m\n",
      "\u001b[1;32m~\\anaconda3\\lib\\site-packages\\u3.py\u001b[0m in \u001b[0;36m__init__\u001b[1;34m(self, debug, autoOpen, **kargs)\u001b[0m\n\u001b[0;32m    100\u001b[0m \u001b[1;33m\u001b[0m\u001b[0m\n\u001b[0;32m    101\u001b[0m         \u001b[1;32mif\u001b[0m \u001b[0mautoOpen\u001b[0m\u001b[1;33m:\u001b[0m\u001b[1;33m\u001b[0m\u001b[1;33m\u001b[0m\u001b[0m\n\u001b[1;32m--> 102\u001b[1;33m             \u001b[0mself\u001b[0m\u001b[1;33m.\u001b[0m\u001b[0mopen\u001b[0m\u001b[1;33m(\u001b[0m\u001b[1;33m**\u001b[0m\u001b[0mkargs\u001b[0m\u001b[1;33m)\u001b[0m\u001b[1;33m\u001b[0m\u001b[1;33m\u001b[0m\u001b[0m\n\u001b[0m\u001b[0;32m    103\u001b[0m     \u001b[0m__init__\u001b[0m\u001b[1;33m.\u001b[0m\u001b[0msection\u001b[0m \u001b[1;33m=\u001b[0m \u001b[1;36m1\u001b[0m\u001b[1;33m\u001b[0m\u001b[1;33m\u001b[0m\u001b[0m\n\u001b[0;32m    104\u001b[0m \u001b[1;33m\u001b[0m\u001b[0m\n",
      "\u001b[1;32m~\\anaconda3\\lib\\site-packages\\u3.py\u001b[0m in \u001b[0;36mopen\u001b[1;34m(self, firstFound, serial, localId, devNumber, handleOnly, LJSocket)\u001b[0m\n\u001b[0;32m    135\u001b[0m         \u001b[1;33m>>\u001b[0m\u001b[1;33m>\u001b[0m \u001b[0md\u001b[0m\u001b[1;33m.\u001b[0m\u001b[0mopen\u001b[0m\u001b[1;33m(\u001b[0m\u001b[0mLJSocket\u001b[0m \u001b[1;33m=\u001b[0m \u001b[1;34m\"localhost:6000\"\u001b[0m\u001b[1;33m)\u001b[0m\u001b[1;33m\u001b[0m\u001b[1;33m\u001b[0m\u001b[0m\n\u001b[0;32m    136\u001b[0m         \"\"\"\n\u001b[1;32m--> 137\u001b[1;33m         \u001b[0mDevice\u001b[0m\u001b[1;33m.\u001b[0m\u001b[0mopen\u001b[0m\u001b[1;33m(\u001b[0m\u001b[0mself\u001b[0m\u001b[1;33m,\u001b[0m \u001b[1;36m3\u001b[0m\u001b[1;33m,\u001b[0m \u001b[0mfirstFound\u001b[0m \u001b[1;33m=\u001b[0m \u001b[0mfirstFound\u001b[0m\u001b[1;33m,\u001b[0m \u001b[0mserial\u001b[0m \u001b[1;33m=\u001b[0m \u001b[0mserial\u001b[0m\u001b[1;33m,\u001b[0m \u001b[0mlocalId\u001b[0m \u001b[1;33m=\u001b[0m \u001b[0mlocalId\u001b[0m\u001b[1;33m,\u001b[0m \u001b[0mdevNumber\u001b[0m \u001b[1;33m=\u001b[0m \u001b[0mdevNumber\u001b[0m\u001b[1;33m,\u001b[0m \u001b[0mhandleOnly\u001b[0m \u001b[1;33m=\u001b[0m \u001b[0mhandleOnly\u001b[0m\u001b[1;33m,\u001b[0m \u001b[0mLJSocket\u001b[0m \u001b[1;33m=\u001b[0m \u001b[0mLJSocket\u001b[0m \u001b[1;33m)\u001b[0m\u001b[1;33m\u001b[0m\u001b[1;33m\u001b[0m\u001b[0m\n\u001b[0m\u001b[0;32m    138\u001b[0m     \u001b[0mopen\u001b[0m\u001b[1;33m.\u001b[0m\u001b[0msection\u001b[0m \u001b[1;33m=\u001b[0m \u001b[1;36m1\u001b[0m\u001b[1;33m\u001b[0m\u001b[1;33m\u001b[0m\u001b[0m\n\u001b[0;32m    139\u001b[0m \u001b[1;33m\u001b[0m\u001b[0m\n",
      "\u001b[1;32m~\\anaconda3\\lib\\site-packages\\LabJackPython.py\u001b[0m in \u001b[0;36mopen\u001b[1;34m(self, devType, Ethernet, firstFound, serial, localId, devNumber, ipAddress, handleOnly, LJSocket)\u001b[0m\n\u001b[0;32m    614\u001b[0m             \u001b[0md\u001b[0m \u001b[1;33m=\u001b[0m \u001b[0mopenLabJack\u001b[0m\u001b[1;33m(\u001b[0m\u001b[0mdevType\u001b[0m\u001b[1;33m,\u001b[0m \u001b[0mct\u001b[0m\u001b[1;33m,\u001b[0m \u001b[0mhandleOnly\u001b[0m \u001b[1;33m=\u001b[0m \u001b[0mhandleOnly\u001b[0m\u001b[1;33m,\u001b[0m \u001b[0mLJSocket\u001b[0m \u001b[1;33m=\u001b[0m \u001b[0mLJSocket\u001b[0m\u001b[1;33m)\u001b[0m\u001b[1;33m\u001b[0m\u001b[1;33m\u001b[0m\u001b[0m\n\u001b[0;32m    615\u001b[0m         \u001b[1;32melif\u001b[0m \u001b[0mfirstFound\u001b[0m\u001b[1;33m:\u001b[0m\u001b[1;33m\u001b[0m\u001b[1;33m\u001b[0m\u001b[0m\n\u001b[1;32m--> 616\u001b[1;33m             \u001b[0md\u001b[0m \u001b[1;33m=\u001b[0m \u001b[0mopenLabJack\u001b[0m\u001b[1;33m(\u001b[0m\u001b[0mdevType\u001b[0m\u001b[1;33m,\u001b[0m \u001b[0mct\u001b[0m\u001b[1;33m,\u001b[0m \u001b[0mfirstFound\u001b[0m \u001b[1;33m=\u001b[0m \u001b[1;32mTrue\u001b[0m\u001b[1;33m,\u001b[0m \u001b[0mhandleOnly\u001b[0m \u001b[1;33m=\u001b[0m \u001b[0mhandleOnly\u001b[0m\u001b[1;33m,\u001b[0m \u001b[0mLJSocket\u001b[0m \u001b[1;33m=\u001b[0m \u001b[0mLJSocket\u001b[0m\u001b[1;33m)\u001b[0m\u001b[1;33m\u001b[0m\u001b[1;33m\u001b[0m\u001b[0m\n\u001b[0m\u001b[0;32m    617\u001b[0m         \u001b[1;32melse\u001b[0m\u001b[1;33m:\u001b[0m\u001b[1;33m\u001b[0m\u001b[1;33m\u001b[0m\u001b[0m\n\u001b[0;32m    618\u001b[0m             \u001b[1;32mraise\u001b[0m \u001b[0mLabJackException\u001b[0m\u001b[1;33m(\u001b[0m\u001b[1;34m\"You must use first found, or give a localId, devNumber, or IP Address\"\u001b[0m\u001b[1;33m)\u001b[0m\u001b[1;33m\u001b[0m\u001b[1;33m\u001b[0m\u001b[0m\n",
      "\u001b[1;32m~\\anaconda3\\lib\\site-packages\\LabJackPython.py\u001b[0m in \u001b[0;36mopenLabJack\u001b[1;34m(deviceType, connectionType, firstFound, pAddress, devNumber, handleOnly, LJSocket)\u001b[0m\n\u001b[0;32m   1391\u001b[0m     \u001b[1;32melif\u001b[0m \u001b[0m_os_name\u001b[0m \u001b[1;33m==\u001b[0m \u001b[1;34m'nt'\u001b[0m\u001b[1;33m:\u001b[0m\u001b[1;33m\u001b[0m\u001b[1;33m\u001b[0m\u001b[0m\n\u001b[0;32m   1392\u001b[0m         \u001b[1;31m# Using UD driver on Windows.\u001b[0m\u001b[1;33m\u001b[0m\u001b[1;33m\u001b[0m\u001b[1;33m\u001b[0m\u001b[0m\n\u001b[1;32m-> 1393\u001b[1;33m         \u001b[0mhandle\u001b[0m \u001b[1;33m=\u001b[0m \u001b[0m_openLabJackUsingUDDriver\u001b[0m\u001b[1;33m(\u001b[0m\u001b[0mdeviceType\u001b[0m\u001b[1;33m,\u001b[0m \u001b[0mconnectionType\u001b[0m\u001b[1;33m,\u001b[0m \u001b[0mfirstFound\u001b[0m\u001b[1;33m,\u001b[0m \u001b[0mpAddress\u001b[0m\u001b[1;33m,\u001b[0m \u001b[0mdevNumber\u001b[0m\u001b[1;33m)\u001b[0m\u001b[1;33m\u001b[0m\u001b[1;33m\u001b[0m\u001b[0m\n\u001b[0m\u001b[0;32m   1394\u001b[0m     \u001b[1;32melif\u001b[0m \u001b[0mconnectionType\u001b[0m \u001b[1;33m==\u001b[0m \u001b[0mLJ_ctETHERNET\u001b[0m \u001b[1;32mand\u001b[0m \u001b[0mdeviceType\u001b[0m \u001b[1;33m==\u001b[0m \u001b[0mLJ_dtUE9\u001b[0m\u001b[1;33m:\u001b[0m\u001b[1;33m\u001b[0m\u001b[1;33m\u001b[0m\u001b[0m\n\u001b[0;32m   1395\u001b[0m         \u001b[0mhandle\u001b[0m \u001b[1;33m=\u001b[0m \u001b[0m_openUE9OverEthernet\u001b[0m\u001b[1;33m(\u001b[0m\u001b[0mfirstFound\u001b[0m\u001b[1;33m,\u001b[0m \u001b[0mpAddress\u001b[0m\u001b[1;33m,\u001b[0m \u001b[0mdevNumber\u001b[0m\u001b[1;33m)\u001b[0m\u001b[1;33m\u001b[0m\u001b[1;33m\u001b[0m\u001b[0m\n",
      "\u001b[1;32m~\\anaconda3\\lib\\site-packages\\LabJackPython.py\u001b[0m in \u001b[0;36m_openLabJackUsingUDDriver\u001b[1;34m(deviceType, connectionType, firstFound, pAddress, devNumber)\u001b[0m\n\u001b[0;32m   1228\u001b[0m     \u001b[0mhandle\u001b[0m \u001b[1;33m=\u001b[0m \u001b[0mctypes\u001b[0m\u001b[1;33m.\u001b[0m\u001b[0mc_long\u001b[0m\u001b[1;33m(\u001b[0m\u001b[1;33m)\u001b[0m\u001b[1;33m\u001b[0m\u001b[1;33m\u001b[0m\u001b[0m\n\u001b[0;32m   1229\u001b[0m     \u001b[0mpAddress\u001b[0m \u001b[1;33m=\u001b[0m \u001b[0mstr\u001b[0m\u001b[1;33m(\u001b[0m\u001b[0mpAddress\u001b[0m\u001b[1;33m)\u001b[0m\u001b[1;33m.\u001b[0m\u001b[0mencode\u001b[0m\u001b[1;33m(\u001b[0m\u001b[1;34m\"ascii\"\u001b[0m\u001b[1;33m)\u001b[0m\u001b[1;33m\u001b[0m\u001b[1;33m\u001b[0m\u001b[0m\n\u001b[1;32m-> 1230\u001b[1;33m     ec = staticLib.OpenLabJack(deviceType, connectionType,\n\u001b[0m\u001b[0;32m   1231\u001b[0m                                 pAddress, firstFound, ctypes.byref(handle))\n\u001b[0;32m   1232\u001b[0m \u001b[1;33m\u001b[0m\u001b[0m\n",
      "\u001b[1;31mAttributeError\u001b[0m: 'NoneType' object has no attribute 'OpenLabJack'"
     ]
    }
   ],
   "source": [
    "myRobot = robot()"
   ]
  },
  {
   "cell_type": "code",
   "execution_count": 9,
   "metadata": {},
   "outputs": [
    {
     "ename": "NameError",
     "evalue": "name 'myRobot' is not defined",
     "output_type": "error",
     "traceback": [
      "\u001b[1;31m---------------------------------------------------------------------------\u001b[0m",
      "\u001b[1;31mNameError\u001b[0m                                 Traceback (most recent call last)",
      "\u001b[1;32m<ipython-input-9-32d13e32b5ee>\u001b[0m in \u001b[0;36m<module>\u001b[1;34m\u001b[0m\n\u001b[1;32m----> 1\u001b[1;33m \u001b[0mmyRobot\u001b[0m\u001b[1;33m.\u001b[0m\u001b[0mtakeIVCurve\u001b[0m\u001b[1;33m(\u001b[0m\u001b[0mverbose\u001b[0m\u001b[1;33m=\u001b[0m\u001b[1;36m0\u001b[0m\u001b[1;33m)\u001b[0m\u001b[1;33m\u001b[0m\u001b[1;33m\u001b[0m\u001b[0m\n\u001b[0m",
      "\u001b[1;31mNameError\u001b[0m: name 'myRobot' is not defined"
     ]
    }
   ],
   "source": [
    "myRobot.takeIVCurve(verbose=0)"
   ]
  },
  {
   "cell_type": "code",
   "execution_count": 10,
   "metadata": {},
   "outputs": [
    {
     "ename": "NameError",
     "evalue": "name 'myRobot' is not defined",
     "output_type": "error",
     "traceback": [
      "\u001b[1;31m---------------------------------------------------------------------------\u001b[0m",
      "\u001b[1;31mNameError\u001b[0m                                 Traceback (most recent call last)",
      "\u001b[1;32m<ipython-input-10-a273db2ca5dd>\u001b[0m in \u001b[0;36m<module>\u001b[1;34m\u001b[0m\n\u001b[1;32m----> 1\u001b[1;33m \u001b[0mmyRobot\u001b[0m\u001b[1;33m.\u001b[0m\u001b[0msetDAC0\u001b[0m\u001b[1;33m(\u001b[0m\u001b[1;36m0\u001b[0m\u001b[1;33m)\u001b[0m\u001b[1;33m\u001b[0m\u001b[1;33m\u001b[0m\u001b[0m\n\u001b[0m",
      "\u001b[1;31mNameError\u001b[0m: name 'myRobot' is not defined"
     ]
    }
   ],
   "source": [
    "myRobot.setDAC0(0)"
   ]
  },
  {
   "cell_type": "code",
   "execution_count": 66,
   "metadata": {},
   "outputs": [
    {
     "name": "stdin",
     "output_type": "stream",
     "text": [
      "click \"Enter\" when ready \n",
      "click \"Enter\" when ready \n",
      "click \"Enter\" when ready \n"
     ]
    },
    {
     "data": {
      "image/png": "[encoded data removed]",
      "text/plain": [
       "<Figure size 432x288 with 1 Axes>"
      ]
     },
     "metadata": {
      "needs_background": "light"
     },
     "output_type": "display_data"
    }
   ],
   "source": [
    "myRobot.getRGYData()"
   ]
  },
  {
   "cell_type": "code",
   "execution_count": 21,
   "metadata": {},
   "outputs": [],
   "source": [
    "myRobot.close()"
   ]
  },
  {
   "cell_type": "code",
   "execution_count": null,
   "metadata": {},
   "outputs": [],
   "source": [
    "fr=open('rDataLED.txt','wb')\n",
    "fy=open('yDataLED.txt','wb')\n",
    "fg=open('gDataLED.txt','wb')"
   ]
  },
  {
   "cell_type": "code",
   "execution_count": null,
   "metadata": {},
   "outputs": [],
   "source": [
    "pickle.dump(myRobot.takeIVData(deltaVoltage=0.01),fr)"
   ]
  },
  {
   "cell_type": "code",
   "execution_count": null,
   "metadata": {},
   "outputs": [],
   "source": [
    "pickle.dump(myRobot.takeIVData(deltaVoltage=0.01),fy)"
   ]
  },
  {
   "cell_type": "code",
   "execution_count": null,
   "metadata": {},
   "outputs": [],
   "source": [
    "pickle.dump(myRobot.takeIVData(deltaVoltage=0.01),fg)"
   ]
  },
  {
   "cell_type": "code",
   "execution_count": null,
   "metadata": {},
   "outputs": [],
   "source": [
    "fr.close()\n",
    "fy.close()\n",
    "fg.close()"
   ]
  },
  {
   "cell_type": "code",
   "execution_count": null,
   "metadata": {},
   "outputs": [],
   "source": [
    "myRobot.close()"
   ]
  },
  {
   "cell_type": "code",
   "execution_count": null,
   "metadata": {},
   "outputs": [],
   "source": [
    "fr=open('rDataLED.txt','rb')\n",
    "fy=open('yDataLED.txt','rb')\n",
    "fg=open('gDataLED.txt','rb')"
   ]
  },
  {
   "cell_type": "code",
   "execution_count": null,
   "metadata": {},
   "outputs": [],
   "source": [
    "xData, rIData = pickle.load(fr)\n",
    "xData, yIData = pickle.load(fy)\n",
    "xData, gIData = pickle.load(fg)"
   ]
  },
  {
   "cell_type": "code",
   "execution_count": null,
   "metadata": {},
   "outputs": [],
   "source": [
    "fr.close()\n",
    "fy.close()\n",
    "fg.close()"
   ]
  },
  {
   "cell_type": "code",
   "execution_count": null,
   "metadata": {},
   "outputs": [],
   "source": [
    "plt.figure(\"I-V diagram for LED\")\n",
    "plt.plot(xData[250:], gIData[250:], 'g-', label='Green')\n",
    "plt.plot(xData[250:], yIData[250:], 'y-', label='Yellow')\n",
    "plt.plot(xData[250:], rIData[250:], 'r-', label='Red')\n",
    "plt.xlabel(\"LED Voltage (V)\")\n",
    "plt.ylabel(\"current (A)\")\n",
    "plt.legend()\n",
    "plt.show()"
   ]
  },
  {
   "cell_type": "code",
   "execution_count": null,
   "metadata": {},
   "outputs": [],
   "source": [
    "#xData, rIData, yIData, gIData"
   ]
  },
  {
   "cell_type": "code",
   "execution_count": null,
   "metadata": {},
   "outputs": [],
   "source": [
    "arr=[1,2,3,4,5]"
   ]
  },
  {
   "cell_type": "code",
   "execution_count": null,
   "metadata": {},
   "outputs": [],
   "source": [
    "arr[2:-1]"
   ]
  },
  {
   "cell_type": "code",
   "execution_count": null,
   "metadata": {},
   "outputs": [],
   "source": [
    "len(xData)"
   ]
  },
  {
   "cell_type": "code",
   "execution_count": null,
   "metadata": {},
   "outputs": [],
   "source": [
    "p"
   ]
  },
  {
   "cell_type": "code",
   "execution_count": null,
   "metadata": {},
   "outputs": [],
   "source": [
    "gIData[-10]"
   ]
  },
  {
   "cell_type": "code",
   "execution_count": 7,
   "metadata": {},
   "outputs": [
    {
     "name": "stdout",
     "output_type": "stream",
     "text": [
      "A0 = 0.090 volts, A1 = 0.090 volts \n"
     ]
    }
   ],
   "source": [
    "myRobot.printAnalogIns()"
   ]
  },
  {
   "cell_type": "code",
   "execution_count": null,
   "metadata": {},
   "outputs": [],
   "source": [
    "myRobot.blink()"
   ]
  },
  {
   "cell_type": "code",
   "execution_count": null,
   "metadata": {},
   "outputs": [],
   "source": [
    "myRobot.close()"
   ]
  },
  {
   "cell_type": "code",
   "execution_count": null,
   "metadata": {},
   "outputs": [],
   "source": [
    "%debug robot"
   ]
  },
  {
   "cell_type": "code",
   "execution_count": null,
   "metadata": {},
   "outputs": [],
   "source": []
  },
  {
   "cell_type": "code",
   "execution_count": 8,
   "metadata": {},
   "outputs": [],
   "source": [
    "d = u3.U3()"
   ]
  },
  {
   "cell_type": "code",
   "execution_count": 9,
   "metadata": {},
   "outputs": [
    {
     "data": {
      "text/plain": [
       "{'FirmwareVersion': '1.46',\n",
       " 'BootloaderVersion': '0.27',\n",
       " 'HardwareVersion': '1.30',\n",
       " 'SerialNumber': 320095542,\n",
       " 'ProductID': 3,\n",
       " 'LocalID': 1,\n",
       " 'TimerCounterMask': 64,\n",
       " 'FIOAnalog': 31,\n",
       " 'FIODirection': 0,\n",
       " 'FIOState': 0,\n",
       " 'EIOAnalog': 0,\n",
       " 'EIODirection': 0,\n",
       " 'EIOState': 0,\n",
       " 'CIODirection': 0,\n",
       " 'CIOState': 0,\n",
       " 'DAC1Enable': 1,\n",
       " 'DAC0': 0,\n",
       " 'DAC1': 0,\n",
       " 'TimerClockConfig': 2,\n",
       " 'TimerClockDivisor': 256,\n",
       " 'CompatibilityOptions': 0,\n",
       " 'VersionInfo': 18,\n",
       " 'DeviceName': 'U3-HV'}"
      ]
     },
     "execution_count": 9,
     "metadata": {},
     "output_type": "execute_result"
    }
   ],
   "source": [
    "d.configU3()"
   ]
  },
  {
   "cell_type": "code",
   "execution_count": 10,
   "metadata": {},
   "outputs": [],
   "source": [
    "def getAnalogVolt():\n",
    "    print('AIN0 = '+str(d.getAIN(0))+' volts, AIN0 = '+str(d.getAIN(1))+' volts')"
   ]
  },
  {
   "cell_type": "code",
   "execution_count": 11,
   "metadata": {},
   "outputs": [
    {
     "name": "stdout",
     "output_type": "stream",
     "text": [
      "AIN0 = 0.08963199999999816 volts, AIN0 = 0.08963199999999816 volts\n"
     ]
    }
   ],
   "source": [
    "getAnalogVolt()"
   ]
  },
  {
   "cell_type": "code",
   "execution_count": 15,
   "metadata": {},
   "outputs": [],
   "source": [
    "def setDAC0(voltage):\n",
    "    if voltage > 5 or voltage < 0:\n",
    "        print('voltage out of bounds (0 < voltage < 5)')\n",
    "    DAC0_VALUE = d.voltageToDACBits(voltage, dacNumber = 0, is16Bits = False)\n",
    "    d.getFeedback(u3.DAC0_8(DAC0_VALUE))"
   ]
  },
  {
   "cell_type": "code",
   "execution_count": 22,
   "metadata": {},
   "outputs": [],
   "source": [
    "setDAC0(0)"
   ]
  },
  {
   "cell_type": "code",
   "execution_count": 17,
   "metadata": {},
   "outputs": [],
   "source": [
    "def blink(n=3):\n",
    "    while n > 0:\n",
    "        n-=1\n",
    "        setDAC0(2)\n",
    "        sleep(1)\n",
    "        setDAC0(0)\n",
    "        sleep(1)"
   ]
  },
  {
   "cell_type": "code",
   "execution_count": 18,
   "metadata": {},
   "outputs": [],
   "source": [
    "blink()"
   ]
  },
  {
   "cell_type": "code",
   "execution_count": null,
   "metadata": {},
   "outputs": [],
   "source": [
    "#for x in range(0,50,1):\n",
    "#    setDAC0(x/10)\n",
    "#    print(x/10)\n",
    "#    print(getAnalogVolt())"
   ]
  },
  {
   "cell_type": "code",
   "execution_count": null,
   "metadata": {},
   "outputs": [],
   "source": [
    "#d.getCalibrationData()"
   ]
  },
  {
   "cell_type": "code",
   "execution_count": 23,
   "metadata": {},
   "outputs": [],
   "source": [
    "d.close()"
   ]
  },
  {
   "cell_type": "code",
   "execution_count": null,
   "metadata": {},
   "outputs": [],
   "source": [
    "import u3\n",
    "import time\n",
    "import numpy as np\n",
    "import matplotlib.pyplot as plt\n",
    "\n",
    "class robot:\n",
    "    def __init__(self):\n",
    "        self.labjack = u3.U3()\n",
    "        \n",
    "        self.resistance = 500  #in Ohms\n",
    "        \n",
    "    def close(self):\n",
    "        self.labjack.close()\n",
    "                            \n",
    "    def printAnalogIns(self):\n",
    "        \n",
    "        AIN0value = self.labjack.getAIN(0)\n",
    "        AIN1value = self.labjack.getAIN(1)\n",
    "        descriptor ='A0 = %5.3f volts, A1 = %5.3f volts ' % (AIN0value, AIN1value)\n",
    "        print(descriptor)\n",
    "       \n",
    "    def setDAC0(self,voltage = 0):\n",
    "        if voltage < 0:\n",
    "            print('output voltage must be >= 0')\n",
    "            return\n",
    "        if voltage > 5:\n",
    "            print('output voltage must be <= 5')\n",
    "            return\n",
    "        \n",
    "        DAC0_VALUE = self.labjack.voltageToDACBits(voltage, dacNumber = 0, is16Bits = False)\n",
    "        self.labjack.getFeedback(u3.DAC0_8(DAC0_VALUE))\n",
    "       \n",
    "    def blink(self,numBlinks = 3):\n",
    "        for i in range(numBlinks):\n",
    "            self.setDAC0(3)\n",
    "            time.sleep(0.5)\n",
    "            self.setDAC0(0)\n",
    "            time.sleep(0.5)\n",
    "    def digitalBlink(self,numBlinks = 3):\n",
    "        for i in range(numBlinks):\n",
    "            self.labjack.setFIOState(4,0)\n",
    "            time.sleep(0.5)\n",
    "            self.labjack.setFIOState(4,1)\n",
    "            time.sleep(0.5)          \n",
    "    def takeIVCurve(self, maxVoltage = 5,\n",
    "                          deltaVoltage = 0.1,\n",
    "                          verbose = 0):\n",
    "        setVoltages = np.arange(0,maxVoltage,deltaVoltage)\n",
    "        currents = np.zeros(len(setVoltages))\n",
    "        diodeVoltages = np.zeros(len(setVoltages))\n",
    "        for i in range(len(setVoltages)):\n",
    "            thisVoltage = setVoltages[i]\n",
    "            self.setDAC0(thisVoltage)\n",
    "            time.sleep(0.05)\n",
    "            topVoltage = self.labjack.getAIN(0)\n",
    "            midVoltage = self.labjack.getAIN(1)\n",
    "            diodeVoltages[i] = midVoltage;\n",
    "            currents[i] = (topVoltage - midVoltage)/self.resistance\n",
    "        \n",
    "        plt.figure('Diode I-V curve')\n",
    "        plt.plot(diodeVoltages,currents)\n",
    "        plt.xlabel('diode voltage')\n",
    "        plt.ylabel('diode current')\n",
    "        plt.show()\n",
    "        if verbose:\n",
    "            \n",
    "            plt.figure('Input voltages')\n",
    "            plt.plot(setVoltages,diodeVoltages)\n",
    "            plt.xlabel('DAC setpoint')\n",
    "            plt.ylabel('measured output voltage')\n",
    "            plt.show()\n",
    "            "
   ]
  },
  {
   "cell_type": "code",
   "execution_count": null,
   "metadata": {},
   "outputs": [],
   "source": [
    "myRobot = robot()\n",
    "myRobot.takeIVCurve(verbose = 1)\n",
    "#myRobot.blink()\n",
    "myRobot.close()"
   ]
  },
  {
   "cell_type": "code",
   "execution_count": null,
   "metadata": {},
   "outputs": [],
   "source": []
  }
 ],
 "metadata": {
  "kernelspec": {
   "display_name": "Python 3",
   "language": "python",
   "name": "python3"
  },
  "language_info": {
   "codemirror_mode": {
    "name": "ipython",
    "version": 3
   },
   "file_extension": ".py",
   "mimetype": "text/x-python",
   "name": "python",
   "nbconvert_exporter": "python",
   "pygments_lexer": "ipython3",
   "version": "3.8.3"
  }
 },
 "nbformat": 4,
 "nbformat_minor": 4
}
