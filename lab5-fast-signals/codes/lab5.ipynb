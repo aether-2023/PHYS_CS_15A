{
 "cells": [
  {
   "cell_type": "code",
   "execution_count": 1,
   "metadata": {},
   "outputs": [],
   "source": [
    "import sys\n",
    "import traceback\n",
    "import numpy as np\n",
    "import matplotlib.pyplot as plt\n",
    "from datetime import datetime\n",
    "import time\n",
    "import u3"
   ]
  },
  {
   "cell_type": "code",
   "execution_count": null,
   "metadata": {},
   "outputs": [],
   "source": []
  },
  {
   "cell_type": "code",
   "execution_count": 13,
   "metadata": {},
   "outputs": [],
   "source": [
    "class robotVer2:\n",
    "    \n",
    "    def __init__(self):\n",
    "        self.labjack = u3.U3()\n",
    "        self.__resistance = 500\n",
    "        \n",
    "    def close(self):\n",
    "        self.labjack.close()\n",
    "                            \n",
    "    def printAnalogIns(self):\n",
    "        AIN0value = self.labjack.getAIN(0)\n",
    "        AIN1value = self.labjack.getAIN(1)\n",
    "        descriptor ='A0 = %5.3f volts, A1 = %5.3f volts ' % (AIN0value, AIN1value)\n",
    "        print(descriptor)\n",
    "\n",
    "    def setDAC0(self,voltage = 0):\n",
    "        if voltage < 0:\n",
    "            print('output voltage must be >= 0')\n",
    "            return\n",
    "        elif voltage > 5:\n",
    "            print('output voltage must be <= 5')\n",
    "            return\n",
    "        else:\n",
    "            DAC0_VALUE = self.labjack.voltageToDACBits(voltage, dacNumber = 0, is16Bits = False)\n",
    "            self.labjack.getFeedback(u3.DAC0_8(DAC0_VALUE))\n",
    "\n",
    "    \n",
    "    def configLabJack(self, theDivisor = 16):\n",
    "        self.labjack.configIO(NumberOfTimersEnabled = 2, FIOAnalog=3)\n",
    "        self.labjack.configTimerClock(TimerClockBase = 6, TimerClockDivisor=theDivisor)\n",
    "\n",
    "    def setPWM(self, highFraction = 1, whichTimer = 0):\n",
    "        if highFraction>1 or highFraction<0:\n",
    "            print('highFraction should be a real number between 0 and 1.')\n",
    "            return\n",
    "        i = int((1-highFraction)*65535)\n",
    "        if whichTimer == 0:\n",
    "            self.labjack.getFeedback(u3.Timer0Config(TimerMode = 0, Value = i))\n",
    "        elif whichTimer == 1:\n",
    "            self.labjack.getFeedback(u3.Timer1Config(TimerMode = 0, Value = i))\n",
    "        else:\n",
    "            print('There are two timers only! Please input 0 or 1.')\n",
    "            return\n",
    "\n",
    "    def plotTwoChannels(self):\n",
    "        MAX_REQUESTS = 25\n",
    "        SCAN_FREQUENCY = 5000\n",
    "        self.labjack.streamConfig(NumChannels=2, PChannels=[0, 1], NChannels=[31, 31], Resolution=3, ScanFrequency=SCAN_FREQUENCY)\n",
    "        \n",
    "        print(\"Start stream\")\n",
    "        try:\n",
    "            self.labjack.streamStart()\n",
    "        except:\n",
    "            print(\"Stopping existing stream..\")\n",
    "            self.labjack.streamStop()\n",
    "            time.sleep(0.1)\n",
    "            self.labjack.streamStart()\n",
    "\n",
    "        start = datetime.now()\n",
    "        print(\"Start time is %s\" % start)\n",
    "\n",
    "        missed = 0\n",
    "        dataCount = 0\n",
    "        packetCount = 0\n",
    "\n",
    "        allSamples0 = np.array([])\n",
    "        allSamples1 = np.array([])\n",
    "        for r in self.labjack.streamData():\n",
    "            if r is not None:\n",
    "                if dataCount >= MAX_REQUESTS:\n",
    "                    break\n",
    "                allSamples0 = np.concatenate((allSamples0,r['AIN0']))\n",
    "                allSamples1 = np.concatenate((allSamples1,r['AIN1']))\n",
    "                dataCount += 1\n",
    "            else:\n",
    "                print(\"No data ; %s\" % datetime.now())\n",
    "\n",
    "        stop = datetime.now()\n",
    "        seconds=np.linspace(0,(stop-start).total_seconds(),15000)\n",
    "        self.labjack.streamStop()\n",
    "        print(\"Stream stopped.\\n\")\n",
    "        self.labjack.close()\n",
    "        \n",
    "        plt.figure()\n",
    "        plt.subplot(211)\n",
    "        plt.xlabel('Time (s)')\n",
    "        plt.ylabel('AIN0 (V)')\n",
    "        plt.plot(seconds,allSamples0, 'b-', label='AIN0')\n",
    "        plt.subplot(212)\n",
    "        plt.xlabel('Time (s)')\n",
    "        plt.ylabel('AIN1 (V)')\n",
    "        plt.plot(seconds,allSamples1, 'b-', label='AIN1')\n",
    "        plt.show()\n",
    "\n",
    "    def getChannel(self, whichChannel = \"AIN0\" ):\n",
    "        MAX_REQUESTS = 5\n",
    "        SCAN_FREQUENCY = 5000\n",
    "        self.labjack.streamConfig(NumChannels=2, PChannels=[0, 1], NChannels=[31, 31], Resolution=3, ScanFrequency=SCAN_FREQUENCY)\n",
    "        \n",
    "        print(\"Start stream\")\n",
    "        try:\n",
    "            self.labjack.streamStart()\n",
    "        except:\n",
    "            print(\"Stopping existing stream..\")\n",
    "            self.labjack.streamStop()\n",
    "            time.sleep(0.1)\n",
    "            self.labjack.streamStart()\n",
    "\n",
    "        start = datetime.now()\n",
    "        print(\"Start time is %s\" % start)\n",
    "\n",
    "        missed = 0\n",
    "        dataCount = 0\n",
    "        packetCount = 0\n",
    "\n",
    "        allSamples = np.array([])\n",
    "        for r in self.labjack.streamData():\n",
    "            if r is not None:\n",
    "                if dataCount >= MAX_REQUESTS:\n",
    "                    break\n",
    "                allSamples = np.concatenate((allSamples,r[whichChannel]))\n",
    "                dataCount += 1\n",
    "            else:\n",
    "                print(\"No data ; %s\" % datetime.now())\n",
    "\n",
    "        stop = datetime.now()\n",
    "        seconds=np.linspace(0,(stop-start).total_seconds(),3000)\n",
    "        self.labjack.streamStop()\n",
    "        print(\"Stream stopped.\\n\")\n",
    "        self.labjack.close()\n",
    "        return seconds, allSamples\n",
    "\n",
    "    def plotChannel(self, whichChannel = \"AIN0\" ):\n",
    "        times,allSamples = self.getChannel(whichChannel)\n",
    "        plt.figure()\n",
    "        plt.plot(times,allSamples, 'b-', label=whichChannel)\n",
    "        plt.xlabel('time, seconds')\n",
    "        plt.ylabel('voltage on %s' % whichChannel)"
   ]
  },
  {
   "cell_type": "code",
   "execution_count": 17,
   "metadata": {},
   "outputs": [],
   "source": [
    "rb0=robotVer2()\n",
    "rb0.configLabJack(96)\n",
    "rb0.setDAC0(0)"
   ]
  },
  {
   "cell_type": "code",
   "execution_count": 18,
   "metadata": {},
   "outputs": [],
   "source": [
    "#rb0.setPWM(0.5,1)\n",
    "rb0.setPWM(0.5,0)"
   ]
  },
  {
   "cell_type": "code",
   "execution_count": 19,
   "metadata": {},
   "outputs": [
    {
     "name": "stdout",
     "output_type": "stream",
     "text": [
      "Start stream\n",
      "Start time is 2020-11-29 15:24:53.674044\n",
      "Stream stopped.\n",
      "\n"
     ]
    },
    {
     "data": {
      "image/png": "[encoded data removed]",
      "text/plain": [
       "<Figure size 432x288 with 2 Axes>"
      ]
     },
     "metadata": {
      "needs_background": "light"
     },
     "output_type": "display_data"
    }
   ],
   "source": [
    "rb0.plotTwoChannels()"
   ]
  },
  {
   "cell_type": "code",
   "execution_count": 20,
   "metadata": {},
   "outputs": [],
   "source": [
    "rb0.close()"
   ]
  },
  {
   "cell_type": "markdown",
   "metadata": {},
   "source": [
    "f_c=1/(2pi RC)\n",
    "R = 500 ohm\n",
    "C_1=10 uF  \n",
    "C_2=0.1 uF"
   ]
  },
  {
   "cell_type": "code",
   "execution_count": 1008,
   "metadata": {},
   "outputs": [],
   "source": [
    "#rb0.gtChannel()"
   ]
  },
  {
   "cell_type": "code",
   "execution_count": 335,
   "metadata": {},
   "outputs": [],
   "source": [
    "#rb0.plotChannel('AIN1')"
   ]
  },
  {
   "cell_type": "code",
   "execution_count": 339,
   "metadata": {},
   "outputs": [],
   "source": [
    "def helloPWM(theBase=4, theDivisor=15):\n",
    "    d = u3.U3() # Opens first found U3 over USB\n",
    "    d.configIO(NumberOfTimersEnabled = 2,FIOAnalog=3)\n",
    "    #FIOAnalog=3 meaning \n",
    "    #Each bit determines whether that bit of FIO is analog input (=1) or digital I/O (=0).\n",
    "    d.configTimerClock(TimerClockBase = theBase, TimerClockDivisor = theDivisor)#original 6,15\n",
    "\n",
    "    print(\"This example allows the LabJack U3 conrol two analog servos using PWM.\")\n",
    "    print(\"The control signals will come out of the FIO4 and FIO5 screw terminals.\")\n",
    "    print(\"The PWM control number can be from 0 to 65535.\")\n",
    "    print(\"Enter numbers to control the PWM width, which will cause the servo motor to move.\")\n",
    "    print(\"(Exactly what the motor does depends on the type of motor.)\")\n",
    "    print(\"Entering 0 will cause the PWM output to be high 100% of the time.\")\n",
    "    print(\"Entering 32768 will cause the PWM output to be high 50% of the time.\")\n",
    "    print(\"Entering 65535 will cause the PWM output to be high almost 0% of the time.\")\n",
    "    print(\"Entering -1 will stop the program\")\n",
    "    i=0\n",
    "    while (i>-1):\n",
    "\n",
    "         d.getFeedback(u3.Timer0Config(TimerMode = 0, Value = i))\n",
    "         d.getFeedback(u3.Timer1Config(TimerMode = 0, Value = i))\n",
    "         i = int(input('Choose a number: '))"
   ]
  },
  {
   "cell_type": "code",
   "execution_count": 342,
   "metadata": {},
   "outputs": [
    {
     "name": "stdout",
     "output_type": "stream",
     "text": [
      "This example allows the LabJack U3 conrol two analog servos using PWM.\n",
      "The control signals will come out of the FIO4 and FIO5 screw terminals.\n",
      "The PWM control number can be from 0 to 65535.\n",
      "Enter numbers to control the PWM width, which will cause the servo motor to move.\n",
      "(Exactly what the motor does depends on the type of motor.)\n",
      "Entering 0 will cause the PWM output to be high 100% of the time.\n",
      "Entering 32768 will cause the PWM output to be high 50% of the time.\n",
      "Entering 65535 will cause the PWM output to be high almost 0% of the time.\n",
      "Entering -1 will stop the program\n"
     ]
    },
    {
     "name": "stdin",
     "output_type": "stream",
     "text": [
      "Choose a number:  32786\n",
      "Choose a number:  -1\n"
     ]
    }
   ],
   "source": [
    "helloPWM(6,160)"
   ]
  },
  {
   "cell_type": "code",
   "execution_count": 4,
   "metadata": {},
   "outputs": [],
   "source": [
    "def plotChannel(whichChannel = \"AIN0\" ):\n",
    "    # MAX_REQUESTS is the number of packets to be read.\n",
    "    MAX_REQUESTS = 5\n",
    "    # SCAN_FREQUENCY is the scan frequency of stream mode in Hz\n",
    "    SCAN_FREQUENCY = 5000\n",
    "    \n",
    "    d = u3.U3()\n",
    "    # To learn the if the U3 is an HV\n",
    "    \n",
    "    # Set the FIO0 and FIO1 to Analog (d3 = b00000011)\n",
    "    #d.configIO(FIOAnalog=3,NumberOfTimersEnabled = 2) #don't call this if you've set up PWM to do something you care about.\n",
    "    #print(\"Configuring U3 stream\")\n",
    "    d.streamConfig(NumChannels=2, PChannels=[0, 1], NChannels=[31, 31], Resolution=3, ScanFrequency=SCAN_FREQUENCY)\n",
    "    #d.streamStop() #this is not strictly necessary but makes things more robust; without it it crashes if a steam has already been started\n",
    "   \n",
    "    print(\"Start stream\")\n",
    "    try:\n",
    "        d.streamStart()\n",
    "    except:\n",
    "        print(\"Stopping existing stream..\")\n",
    "        d.streamStop()\n",
    "        time.sleep(0.1)\n",
    "        d.streamStart()\n",
    "        \n",
    "    start = datetime.now()\n",
    "    print(\"Start time is %s\" % start)\n",
    "\n",
    "    missed = 0\n",
    "    dataCount = 0\n",
    "    packetCount = 0\n",
    "\n",
    "    allSamples = np.array([])\n",
    "    for r in d.streamData():\n",
    "        if r is not None:\n",
    "            # Our stop condition\n",
    "            if dataCount >= MAX_REQUESTS:\n",
    "                break\n",
    "\n",
    "            # Comment out these prints and do something with r\n",
    "            print(\"Average of %s AIN0, %s AIN1 readings: %s, %s\" %\n",
    "                  (len(r[\"AIN0\"]), len(r[\"AIN1\"]), sum(r[\"AIN0\"])/len(r[\"AIN0\"]), sum(r[\"AIN1\"])/len(r[\"AIN1\"])))\n",
    "            allSamples = np.concatenate((allSamples,r[whichChannel]))\n",
    "            dataCount += 1\n",
    "            #packetCount += r['numPackets']\n",
    "        else:\n",
    "            # Got no data back from our read.\n",
    "            # This only happens if your stream isn't faster than the USB read\n",
    "            # timeout, ~1 sec.\n",
    "            print(\"No data ; %s\" % datetime.now())\n",
    "        \n",
    "    stop = datetime.now()\n",
    "    seconds=np.linspace(0,(stop-start).total_seconds(),3000)\n",
    "    d.streamStop()\n",
    "    print(\"Stream stopped.\\n\")\n",
    "    d.close()\n",
    "    plt.figure()\n",
    "    plt.xlabel('Time (s)')\n",
    "    plt.ylabel('Voltage (V)')\n",
    "    plt.plot(seconds,allSamples, 'b-', label=whichChannel)\n",
    "    plt.show()"
   ]
  },
  {
   "cell_type": "code",
   "execution_count": 348,
   "metadata": {},
   "outputs": [
    {
     "name": "stdout",
     "output_type": "stream",
     "text": [
      "This example allows the LabJack U3 conrol two analog servos using PWM.\n",
      "The control signals will come out of the FIO4 and FIO5 screw terminals.\n",
      "The PWM control number can be from 0 to 65535.\n",
      "Enter numbers to control the PWM width, which will cause the servo motor to move.\n",
      "(Exactly what the motor does depends on the type of motor.)\n",
      "Entering 0 will cause the PWM output to be high 100% of the time.\n",
      "Entering 32768 will cause the PWM output to be high 50% of the time.\n",
      "Entering 65535 will cause the PWM output to be high almost 0% of the time.\n",
      "Entering -1 will stop the program\n"
     ]
    },
    {
     "name": "stdin",
     "output_type": "stream",
     "text": [
      "Choose a number:  32786\n",
      "Choose a number:  -1\n"
     ]
    }
   ],
   "source": [
    "helloPWM(6,16)"
   ]
  },
  {
   "cell_type": "code",
   "execution_count": 349,
   "metadata": {},
   "outputs": [
    {
     "name": "stdout",
     "output_type": "stream",
     "text": [
      "Start stream\n",
      "Start time is 2020-11-14 15:11:40.008487\n",
      "Average of 600 AIN0, 600 AIN1 readings: 1.0375770666666704, 1.4740956800000118\n",
      "Average of 600 AIN0, 600 AIN1 readings: 0.9423387733333332, 1.4740621866666763\n",
      "Average of 600 AIN0, 600 AIN1 readings: 1.0315817600000023, 1.4745310933333433\n",
      "Average of 600 AIN0, 600 AIN1 readings: 0.9507623466666681, 1.4742464000000106\n",
      "Average of 600 AIN0, 600 AIN1 readings: 1.0285841066666703, 1.4744473600000112\n",
      "Stream stopped.\n",
      "\n"
     ]
    },
    {
     "data": {
      "image/png": "[encoded data removed]",
      "text/plain": [
       "<Figure size 432x288 with 1 Axes>"
      ]
     },
     "metadata": {
      "needs_background": "light"
     },
     "output_type": "display_data"
    }
   ],
   "source": [
    "plotChannel(\"AIN0\")"
   ]
  },
  {
   "cell_type": "code",
   "execution_count": 6,
   "metadata": {},
   "outputs": [
    {
     "data": {
      "text/plain": [
       "array([ 1.,  2.,  3.,  4.,  5.,  6.,  7.,  8.,  9., 10.])"
      ]
     },
     "execution_count": 6,
     "metadata": {},
     "output_type": "execute_result"
    }
   ],
   "source": [
    "np.linspace(1,10,10)"
   ]
  },
  {
   "cell_type": "code",
   "execution_count": null,
   "metadata": {},
   "outputs": [],
   "source": []
  }
 ],
 "metadata": {
  "kernelspec": {
   "display_name": "Python 3",
   "language": "python",
   "name": "python3"
  },
  "language_info": {
   "codemirror_mode": {
    "name": "ipython",
    "version": 3
   },
   "file_extension": ".py",
   "mimetype": "text/x-python",
   "name": "python",
   "nbconvert_exporter": "python",
   "pygments_lexer": "ipython3",
   "version": "3.8.3"
  }
 },
 "nbformat": 4,
 "nbformat_minor": 4
}
