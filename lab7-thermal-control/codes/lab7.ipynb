{
 "cells": [
  {
   "cell_type": "code",
   "execution_count": 1,
   "metadata": {},
   "outputs": [],
   "source": [
    "%matplotlib qt5\n",
    "import u3\n",
    "from time import sleep\n",
    "import matplotlib.pyplot as plt\n",
    "import numpy as np\n",
    "from datetime import datetime\n",
    "import time\n",
    "import pickle"
   ]
  },
  {
   "cell_type": "code",
   "execution_count": 32,
   "metadata": {},
   "outputs": [],
   "source": [
    "class robot:\n",
    "    \n",
    "    def __init__(self):\n",
    "        self.labjack = u3.U3()\n",
    "        self.__resistance = 10000\n",
    "        \n",
    "    def close(self):\n",
    "        self.labjack.close()\n",
    "                            \n",
    "    def printAnalogIns(self):\n",
    "        AIN0value = self.labjack.getAIN(0)\n",
    "        AIN1value = self.labjack.getAIN(1)\n",
    "        AIN2value = self.labjack.getAIN(2)\n",
    "        AIN3value = self.labjack.getAIN(3)\n",
    "        descriptor ='A0 = %5.3f volts, A1 = %5.3f volts, A2 = %5.3f volts, A3 = %5.3f volts ' % (AIN0value, AIN1value, AIN2value, AIN3value)\n",
    "        print(descriptor)\n",
    "       \n",
    "    def setDAC0(self,voltage = 0):\n",
    "        if voltage < 0:\n",
    "            print('output voltage must be >= 0')\n",
    "            return\n",
    "        elif voltage > 5:\n",
    "            print('output voltage must be <= 5')\n",
    "            return\n",
    "        else:\n",
    "            DAC0_VALUE = self.labjack.voltageToDACBits(voltage, dacNumber = 0, is16Bits = False)\n",
    "            self.labjack.getFeedback(u3.DAC0_8(DAC0_VALUE))\n",
    "            \n",
    "    def setDAC1(self,voltage = 0):\n",
    "        if voltage < 0:\n",
    "            print('output voltage must be >= 0')\n",
    "            return\n",
    "        elif voltage > 5:\n",
    "            print('output voltage must be <= 5')\n",
    "            return\n",
    "        else:\n",
    "            DAC1_VALUE = self.labjack.voltageToDACBits(voltage, dacNumber = 1, is16Bits = False)\n",
    "            self.labjack.getFeedback(u3.DAC1_8(DAC1_VALUE))\n",
    "\n",
    "    def getRTData(self, dataNum = 100):\n",
    "        resData = np.zeros(dataNum)\n",
    "        index = 0\n",
    "        start = datetime.now()\n",
    "        while index < dataNum:\n",
    "            sleep(0.05)\n",
    "            topVoltage = self.labjack.getAIN(0)\n",
    "            midVoltage = self.labjack.getAIN(1) \n",
    "            resData[index] = self.__resistance / (topVoltage / midVoltage - 1)\n",
    "            index += 1\n",
    "        stop = datetime.now()\n",
    "        seconds=np.linspace(0,(stop-start).total_seconds(),dataNum)\n",
    "        return seconds, resData\n",
    "        \n",
    "    def takeRTCurve(self, dataNum = 100):\n",
    "        seconds, resData = self.getRTData(dataNum)\n",
    "        \n",
    "        print(resData.mean())\n",
    "        \n",
    "        plt.figure('R-T curve')\n",
    "        plt.plot(seconds,resData)\n",
    "        plt.xlabel('time (seconds)')\n",
    "        plt.ylabel('resistance (ohm)')\n",
    "        plt.show()\n",
    "        \n",
    "    def getTemperature(self):\n",
    "        topVoltage = self.labjack.getAIN(0)\n",
    "        midVoltage = self.labjack.getAIN(1) \n",
    "        resData = self.__resistance / (topVoltage / midVoltage - 1)\n",
    "        temperatureData = 48.877-(1.845*(10**(-3)))*resData\n",
    "        return temperatureData\n",
    "        \n",
    "    def takeTTCurve(self, dataNum = 100, timePeriod = 20):\n",
    "        seconds, resData = self.getRTData(dataNum)\n",
    "        temperatureData = resData*((-1.845)*(10**(-3)))+48.877\n",
    "        heaterVoltData = np.zeros(dataNum)\n",
    "        meanTemp = temperatureData.mean()\n",
    "        \n",
    "        plt.ion()\n",
    "        fig = plt.figure('T-T curve')\n",
    "        ax = fig.add_subplot(211)\n",
    "        line1, = ax.plot(seconds, temperatureData, 'r-')\n",
    "        ax.set_xlim([0,seconds[-1]+timePeriod])\n",
    "        ax.set_ylim([meanTemp-2,meanTemp+2])\n",
    "        ax.set_ylabel('temperature (celsius)')\n",
    "        \n",
    "        ax2 = fig.add_subplot(212)\n",
    "        line2, = ax2.plot(seconds, heaterVoltData, 'b-')\n",
    "        ax2.set_xlim([0,seconds[-1]+timePeriod])\n",
    "        ax2.set_ylim([-0.5,5.5])\n",
    "        ax2.set_xlabel('time (seconds)')\n",
    "        ax2.set_ylabel('voltage (volt)')\n",
    "        \n",
    "        start = datetime.now()\n",
    "        newDataNum = 0\n",
    "        newVoltage = 0\n",
    "        while (datetime.now() - start).total_seconds() < timePeriod:\n",
    "            sleep(0.05)\n",
    "            newDataNum += 1\n",
    "            temperature = self.getTemperature()\n",
    "            newVoltage = self.heaterVoltage(newVoltage, meanTemp, self.getTemperature())\n",
    "            self.setDAC1(newVoltage)\n",
    "            heaterVoltData = np.append(heaterVoltData, newVoltage)\n",
    "            temperatureData = np.append(temperatureData,self.getTemperature())\n",
    "            intervalTime = (datetime.now() - start).total_seconds()/newDataNum\n",
    "            seconds = np.append(seconds, seconds[-1]+intervalTime)\n",
    "            \n",
    "            line1.set_xdata(seconds)\n",
    "            line1.set_ydata(temperatureData)\n",
    "            line2.set_xdata(seconds)\n",
    "            line2.set_ydata(heaterVoltData)\n",
    "            fig.canvas.draw()\n",
    "            fig.canvas.flush_events()\n",
    "\n",
    "    def heaterVoltage(self, currentVolt, stableTemp, temperature, onVoltage = 5, offVoltage = 0):\n",
    "        #(time>5) & (time<25)\n",
    "        if temperature < stableTemp-0.2:\n",
    "            return onVoltage\n",
    "        elif temperature > stableTemp+0.2:\n",
    "            return offVoltage\n",
    "        else:\n",
    "            return currentVolt\n",
    "    \n",
    "    \n",
    "        \n",
    "    def boxcarAverager(self, dataNum = 100, timePeriod = 20):\n",
    "        seconds, resData = self.getRTData(dataNum)\n",
    "        temperatureData = resData*((-1.845)*(10**(-3)))+48.877\n",
    "        heaterVoltData = np.zeros(dataNum)\n",
    "        meanTemp = temperatureData.mean()\n",
    "        \n",
    "        plt.ion()\n",
    "        fig = plt.figure('T-T curve')\n",
    "        ax = fig.add_subplot(211)\n",
    "        line1, = ax.plot(seconds, temperatureData, 'r-')\n",
    "        ax.set_xlim([0,seconds[-1]+timePeriod])\n",
    "        ax.set_ylim([meanTemp-2,meanTemp+2])\n",
    "        ax.set_ylabel('temperature (celsius)')\n",
    "        \n",
    "        ax2 = fig.add_subplot(212)\n",
    "        line2, = ax2.plot(seconds, heaterVoltData, 'b-')\n",
    "        ax2.set_xlim([0,seconds[-1]+timePeriod])\n",
    "        ax2.set_ylim([-0.5,5.5])\n",
    "        ax2.set_xlabel('time (seconds)')\n",
    "        ax2.set_ylabel('voltage (volt)')\n",
    "        \n",
    "        start = datetime.now()\n",
    "        newDataNum = 0\n",
    "        newVoltage = 0\n",
    "        while (datetime.now() - start).total_seconds() < timePeriod:\n",
    "            sleep(0.05)\n",
    "            newDataNum += 1\n",
    "            temperatureMean = temperatureData[-100:].mean()\n",
    "            newVoltage = self.heaterVoltage(newVoltage, meanTemp, temperatureMean)\n",
    "            self.setDAC1(newVoltage)\n",
    "            heaterVoltData = np.append(heaterVoltData, newVoltage)\n",
    "            temperatureData = np.append(temperatureData,self.getTemperature())\n",
    "            intervalTime = (datetime.now() - start).total_seconds()/newDataNum\n",
    "            seconds = np.append(seconds, seconds[-1]+intervalTime)\n",
    "            \n",
    "            line1.set_xdata(seconds)\n",
    "            line1.set_ydata(temperatureData)\n",
    "            line2.set_xdata(seconds)\n",
    "            line2.set_ydata(heaterVoltData)\n",
    "            fig.canvas.draw()\n",
    "            fig.canvas.flush_events()\n",
    "    \n",
    "    "
   ]
  },
  {
   "cell_type": "code",
   "execution_count": 36,
   "metadata": {},
   "outputs": [],
   "source": [
    "r01 = robot()"
   ]
  },
  {
   "cell_type": "code",
   "execution_count": 37,
   "metadata": {},
   "outputs": [],
   "source": [
    "r01.setDAC0(5)"
   ]
  },
  {
   "cell_type": "code",
   "execution_count": 39,
   "metadata": {},
   "outputs": [],
   "source": [
    "r01.boxcarAverager(100,100)"
   ]
  },
  {
   "cell_type": "code",
   "execution_count": 26,
   "metadata": {},
   "outputs": [],
   "source": [
    "r01.takeTTCurve(50,10)"
   ]
  },
  {
   "cell_type": "code",
   "execution_count": 23,
   "metadata": {},
   "outputs": [
    {
     "name": "stdout",
     "output_type": "stream",
     "text": [
      "13977.778270544646\n"
     ]
    }
   ],
   "source": [
    "r01.takeRTCurve(30)"
   ]
  },
  {
   "cell_type": "code",
   "execution_count": 27,
   "metadata": {},
   "outputs": [
    {
     "data": {
      "text/plain": [
       "19.127994610485036"
      ]
     },
     "execution_count": 27,
     "metadata": {},
     "output_type": "execute_result"
    }
   ],
   "source": [
    "r01.getTemperature()"
   ]
  },
  {
   "cell_type": "code",
   "execution_count": 46,
   "metadata": {},
   "outputs": [],
   "source": [
    "#17550 ohm = 12 C\n",
    "#29543 999.416\n",
    "#27672 843.5\n",
    "#8136.7 = 36.2 :389 :540 :591\n",
    "#T = -1.845*10^(-3) R +48.877\n",
    "#R = -517.8 T + 26106\n"
   ]
  },
  {
   "cell_type": "code",
   "execution_count": 40,
   "metadata": {},
   "outputs": [],
   "source": [
    "r01.setDAC1(0)"
   ]
  },
  {
   "cell_type": "code",
   "execution_count": 6,
   "metadata": {},
   "outputs": [
    {
     "name": "stdout",
     "output_type": "stream",
     "text": [
      "A0 = 5.119 volts, A1 = 3.340 volts, A2 = 0.075 volts, A3 = 1.466 volts \n"
     ]
    }
   ],
   "source": [
    "r01.printAnalogIns()"
   ]
  },
  {
   "cell_type": "code",
   "execution_count": 8,
   "metadata": {},
   "outputs": [],
   "source": [
    "arr0 = np.linspace(0,1,10)"
   ]
  },
  {
   "cell_type": "code",
   "execution_count": 9,
   "metadata": {},
   "outputs": [],
   "source": [
    "arr0[1]=9.8"
   ]
  },
  {
   "cell_type": "code",
   "execution_count": 11,
   "metadata": {},
   "outputs": [
    {
     "data": {
      "text/plain": [
       "1.468888888888889"
      ]
     },
     "execution_count": 11,
     "metadata": {},
     "output_type": "execute_result"
    }
   ],
   "source": [
    "arr0.mean()"
   ]
  },
  {
   "cell_type": "code",
   "execution_count": 13,
   "metadata": {},
   "outputs": [
    {
     "data": {
      "text/plain": [
       "array([0.55555556, 0.66666667, 0.77777778, 0.88888889, 1.        ])"
      ]
     },
     "execution_count": 13,
     "metadata": {},
     "output_type": "execute_result"
    }
   ],
   "source": [
    "arr0[-5:]"
   ]
  },
  {
   "cell_type": "code",
   "execution_count": 42,
   "metadata": {},
   "outputs": [
    {
     "data": {
      "text/plain": [
       "array([0.        , 0.22222222, 0.33333333, 0.44444444, 0.55555556,\n",
       "       0.66666667, 0.77777778, 0.88888889, 1.        ])"
      ]
     },
     "execution_count": 42,
     "metadata": {},
     "output_type": "execute_result"
    }
   ],
   "source": [
    "np.delete(arr0,1)"
   ]
  },
  {
   "cell_type": "code",
   "execution_count": 6,
   "metadata": {},
   "outputs": [],
   "source": [
    "import numpy as np\n",
    "import time\n",
    "import matplotlib.pyplot as plt\n",
    "\n",
    "def movingPlot():\n",
    "    x = np.linspace(0, 6*np.pi, 100)\n",
    "    y = np.sin(x)\n",
    "# You probably won't need this if you're embedding things in a tkinter plot...\n",
    "    plt.ion()\n",
    "    \n",
    "    fig = plt.figure()\n",
    "    ax = fig.add_subplot(111)\n",
    "    line1, = ax.plot(x, y, 'r-') # Returns a tuple of line objects, thus the comma\n",
    "    \n",
    "    for phase in np.linspace(0, 10*np.pi, 500):\n",
    "        line1.set_ydata(np.sin(x + phase))\n",
    "        fig.canvas.draw()\n",
    "        fig.canvas.flush_events()\n",
    "        \n",
    "movingPlot()"
   ]
  },
  {
   "cell_type": "code",
   "execution_count": 47,
   "metadata": {},
   "outputs": [
    {
     "data": {
      "text/plain": [
       "3.0023000000000053"
      ]
     },
     "execution_count": 47,
     "metadata": {},
     "output_type": "execute_result"
    }
   ],
   "source": [
    "123.0023%10"
   ]
  },
  {
   "cell_type": "code",
   "execution_count": 1,
   "metadata": {},
   "outputs": [],
   "source": []
  },
  {
   "cell_type": "code",
   "execution_count": null,
   "metadata": {},
   "outputs": [],
   "source": []
  }
 ],
 "metadata": {
  "kernelspec": {
   "display_name": "Python 3",
   "language": "python",
   "name": "python3"
  },
  "language_info": {
   "codemirror_mode": {
    "name": "ipython",
    "version": 3
   },
   "file_extension": ".py",
   "mimetype": "text/x-python",
   "name": "python",
   "nbconvert_exporter": "python",
   "pygments_lexer": "ipython3",
   "version": "3.8.3"
  }
 },
 "nbformat": 4,
 "nbformat_minor": 4
}
